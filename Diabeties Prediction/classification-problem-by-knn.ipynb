{
 "cells": [
  {
   "cell_type": "code",
   "execution_count": 1,
   "id": "2f4c3fd9",
   "metadata": {
    "_cell_guid": "b1076dfc-b9ad-4769-8c92-a6c4dae69d19",
    "_uuid": "8f2839f25d086af736a60e9eeb907d3b93b6e0e5",
    "execution": {
     "iopub.execute_input": "2024-05-01T16:33:38.997383Z",
     "iopub.status.busy": "2024-05-01T16:33:38.996597Z",
     "iopub.status.idle": "2024-05-01T16:33:41.617117Z",
     "shell.execute_reply": "2024-05-01T16:33:41.616174Z"
    },
    "papermill": {
     "duration": 2.631031,
     "end_time": "2024-05-01T16:33:41.619672",
     "exception": false,
     "start_time": "2024-05-01T16:33:38.988641",
     "status": "completed"
    },
    "tags": []
   },
   "outputs": [],
   "source": [
    "import numpy as np # Linear Algebra\n",
    "import pandas as pd # Handling Data\n",
    "import matplotlib.pyplot as plt # Visualization\n",
    "import seaborn as sns # Visualization\n",
    "from sklearn.pipeline import Pipeline # Data Pipeline\n",
    "from sklearn.impute import SimpleImputer # Imputation / Handling missing values\n",
    "from sklearn.preprocessing import StandardScaler # Scalling data\n",
    "from sklearn.feature_selection import SelectKBest # Selecting features\n",
    "from sklearn.decomposition import PCA # dimensionality reduction\n",
    "from sklearn.model_selection import train_test_split # splitting data\n",
    "from sklearn.ensemble import RandomForestClassifier # Classifier\n",
    "from sklearn.neighbors import KNeighborsClassifier # Classifier from sklearn.tree import DecisionTreeClassifier\n",
    "from sklearn.metrics import accuracy_score\n",
    "from sklearn.ensemble import ExtraTreesClassifier # Feature selection\n",
    "from sklearn.metrics import classification_report, confusion_matrix #␣Performance Measures\n",
    "from sklearn.model_selection import GridSearchCV # Hyperparameter tuning\n",
    "from sklearn.model_selection import RandomizedSearchCV # Hyperparameter tuning\n",
    "from scipy.stats import randint # Random Integer\n",
    "from sklearn.tree import DecisionTreeClassifier\n",
    "import warnings\n",
    "warnings.filterwarnings('ignore')"
   ]
  },
  {
   "cell_type": "code",
   "execution_count": 2,
   "id": "c0db203f",
   "metadata": {
    "execution": {
     "iopub.execute_input": "2024-05-01T16:33:41.633507Z",
     "iopub.status.busy": "2024-05-01T16:33:41.632708Z",
     "iopub.status.idle": "2024-05-01T16:33:41.677783Z",
     "shell.execute_reply": "2024-05-01T16:33:41.676729Z"
    },
    "papermill": {
     "duration": 0.054313,
     "end_time": "2024-05-01T16:33:41.680113",
     "exception": false,
     "start_time": "2024-05-01T16:33:41.625800",
     "status": "completed"
    },
    "tags": []
   },
   "outputs": [
    {
     "data": {
      "text/html": [
       "<div>\n",
       "<style scoped>\n",
       "    .dataframe tbody tr th:only-of-type {\n",
       "        vertical-align: middle;\n",
       "    }\n",
       "\n",
       "    .dataframe tbody tr th {\n",
       "        vertical-align: top;\n",
       "    }\n",
       "\n",
       "    .dataframe thead th {\n",
       "        text-align: right;\n",
       "    }\n",
       "</style>\n",
       "<table border=\"1\" class=\"dataframe\">\n",
       "  <thead>\n",
       "    <tr style=\"text-align: right;\">\n",
       "      <th></th>\n",
       "      <th>Pregnancies</th>\n",
       "      <th>Glucose</th>\n",
       "      <th>BloodPressure</th>\n",
       "      <th>SkinThickness</th>\n",
       "      <th>Insulin</th>\n",
       "      <th>BMI</th>\n",
       "      <th>DiabetesPedigreeFunction</th>\n",
       "      <th>Age</th>\n",
       "      <th>Outcome</th>\n",
       "    </tr>\n",
       "  </thead>\n",
       "  <tbody>\n",
       "    <tr>\n",
       "      <th>0</th>\n",
       "      <td>6</td>\n",
       "      <td>148</td>\n",
       "      <td>72</td>\n",
       "      <td>35</td>\n",
       "      <td>0</td>\n",
       "      <td>33.6</td>\n",
       "      <td>0.627</td>\n",
       "      <td>50</td>\n",
       "      <td>1</td>\n",
       "    </tr>\n",
       "    <tr>\n",
       "      <th>1</th>\n",
       "      <td>1</td>\n",
       "      <td>85</td>\n",
       "      <td>66</td>\n",
       "      <td>29</td>\n",
       "      <td>0</td>\n",
       "      <td>26.6</td>\n",
       "      <td>0.351</td>\n",
       "      <td>31</td>\n",
       "      <td>0</td>\n",
       "    </tr>\n",
       "    <tr>\n",
       "      <th>2</th>\n",
       "      <td>8</td>\n",
       "      <td>183</td>\n",
       "      <td>64</td>\n",
       "      <td>0</td>\n",
       "      <td>0</td>\n",
       "      <td>23.3</td>\n",
       "      <td>0.672</td>\n",
       "      <td>32</td>\n",
       "      <td>1</td>\n",
       "    </tr>\n",
       "    <tr>\n",
       "      <th>3</th>\n",
       "      <td>1</td>\n",
       "      <td>89</td>\n",
       "      <td>66</td>\n",
       "      <td>23</td>\n",
       "      <td>94</td>\n",
       "      <td>28.1</td>\n",
       "      <td>0.167</td>\n",
       "      <td>21</td>\n",
       "      <td>0</td>\n",
       "    </tr>\n",
       "    <tr>\n",
       "      <th>4</th>\n",
       "      <td>0</td>\n",
       "      <td>137</td>\n",
       "      <td>40</td>\n",
       "      <td>35</td>\n",
       "      <td>168</td>\n",
       "      <td>43.1</td>\n",
       "      <td>2.288</td>\n",
       "      <td>33</td>\n",
       "      <td>1</td>\n",
       "    </tr>\n",
       "  </tbody>\n",
       "</table>\n",
       "</div>"
      ],
      "text/plain": [
       "   Pregnancies  Glucose  BloodPressure  SkinThickness  Insulin   BMI  \\\n",
       "0            6      148             72             35        0  33.6   \n",
       "1            1       85             66             29        0  26.6   \n",
       "2            8      183             64              0        0  23.3   \n",
       "3            1       89             66             23       94  28.1   \n",
       "4            0      137             40             35      168  43.1   \n",
       "\n",
       "   DiabetesPedigreeFunction  Age  Outcome  \n",
       "0                     0.627   50        1  \n",
       "1                     0.351   31        0  \n",
       "2                     0.672   32        1  \n",
       "3                     0.167   21        0  \n",
       "4                     2.288   33        1  "
      ]
     },
     "execution_count": 2,
     "metadata": {},
     "output_type": "execute_result"
    }
   ],
   "source": [
    "df = pd.read_csv('diabetes.csv')\n",
    "df.head()"
   ]
  },
  {
   "cell_type": "code",
   "execution_count": 3,
   "id": "d85e1aa4",
   "metadata": {
    "execution": {
     "iopub.execute_input": "2024-05-01T16:33:41.693148Z",
     "iopub.status.busy": "2024-05-01T16:33:41.692779Z",
     "iopub.status.idle": "2024-05-01T16:33:41.703093Z",
     "shell.execute_reply": "2024-05-01T16:33:41.702345Z"
    },
    "papermill": {
     "duration": 0.019091,
     "end_time": "2024-05-01T16:33:41.705041",
     "exception": false,
     "start_time": "2024-05-01T16:33:41.685950",
     "status": "completed"
    },
    "tags": []
   },
   "outputs": [
    {
     "data": {
      "text/plain": [
       "Pregnancies                 0\n",
       "Glucose                     0\n",
       "BloodPressure               0\n",
       "SkinThickness               0\n",
       "Insulin                     0\n",
       "BMI                         0\n",
       "DiabetesPedigreeFunction    0\n",
       "Age                         0\n",
       "Outcome                     0\n",
       "dtype: int64"
      ]
     },
     "execution_count": 3,
     "metadata": {},
     "output_type": "execute_result"
    }
   ],
   "source": [
    "df.isna().sum()"
   ]
  },
  {
   "cell_type": "code",
   "execution_count": 4,
   "id": "080988f7",
   "metadata": {
    "execution": {
     "iopub.execute_input": "2024-05-01T16:33:41.718722Z",
     "iopub.status.busy": "2024-05-01T16:33:41.717816Z",
     "iopub.status.idle": "2024-05-01T16:33:41.728350Z",
     "shell.execute_reply": "2024-05-01T16:33:41.727412Z"
    },
    "papermill": {
     "duration": 0.019756,
     "end_time": "2024-05-01T16:33:41.730693",
     "exception": false,
     "start_time": "2024-05-01T16:33:41.710937",
     "status": "completed"
    },
    "tags": []
   },
   "outputs": [
    {
     "data": {
      "text/plain": [
       "0"
      ]
     },
     "execution_count": 4,
     "metadata": {},
     "output_type": "execute_result"
    }
   ],
   "source": [
    "df.duplicated().sum()"
   ]
  },
  {
   "cell_type": "code",
   "execution_count": 5,
   "id": "8ffe0d65",
   "metadata": {
    "execution": {
     "iopub.execute_input": "2024-05-01T16:33:41.745118Z",
     "iopub.status.busy": "2024-05-01T16:33:41.744115Z",
     "iopub.status.idle": "2024-05-01T16:33:41.776943Z",
     "shell.execute_reply": "2024-05-01T16:33:41.775947Z"
    },
    "papermill": {
     "duration": 0.042413,
     "end_time": "2024-05-01T16:33:41.779307",
     "exception": false,
     "start_time": "2024-05-01T16:33:41.736894",
     "status": "completed"
    },
    "tags": []
   },
   "outputs": [
    {
     "data": {
      "text/html": [
       "<div>\n",
       "<style scoped>\n",
       "    .dataframe tbody tr th:only-of-type {\n",
       "        vertical-align: middle;\n",
       "    }\n",
       "\n",
       "    .dataframe tbody tr th {\n",
       "        vertical-align: top;\n",
       "    }\n",
       "\n",
       "    .dataframe thead th {\n",
       "        text-align: right;\n",
       "    }\n",
       "</style>\n",
       "<table border=\"1\" class=\"dataframe\">\n",
       "  <thead>\n",
       "    <tr style=\"text-align: right;\">\n",
       "      <th></th>\n",
       "      <th>Pregnancies</th>\n",
       "      <th>Glucose</th>\n",
       "      <th>BloodPressure</th>\n",
       "      <th>SkinThickness</th>\n",
       "      <th>Insulin</th>\n",
       "      <th>BMI</th>\n",
       "      <th>DiabetesPedigreeFunction</th>\n",
       "      <th>Age</th>\n",
       "      <th>Outcome</th>\n",
       "    </tr>\n",
       "  </thead>\n",
       "  <tbody>\n",
       "    <tr>\n",
       "      <th>count</th>\n",
       "      <td>768.000000</td>\n",
       "      <td>768.000000</td>\n",
       "      <td>768.000000</td>\n",
       "      <td>768.000000</td>\n",
       "      <td>768.000000</td>\n",
       "      <td>768.000000</td>\n",
       "      <td>768.000000</td>\n",
       "      <td>768.000000</td>\n",
       "      <td>768.000000</td>\n",
       "    </tr>\n",
       "    <tr>\n",
       "      <th>mean</th>\n",
       "      <td>3.845052</td>\n",
       "      <td>120.894531</td>\n",
       "      <td>69.105469</td>\n",
       "      <td>20.536458</td>\n",
       "      <td>79.799479</td>\n",
       "      <td>31.992578</td>\n",
       "      <td>0.471876</td>\n",
       "      <td>33.240885</td>\n",
       "      <td>0.348958</td>\n",
       "    </tr>\n",
       "    <tr>\n",
       "      <th>std</th>\n",
       "      <td>3.369578</td>\n",
       "      <td>31.972618</td>\n",
       "      <td>19.355807</td>\n",
       "      <td>15.952218</td>\n",
       "      <td>115.244002</td>\n",
       "      <td>7.884160</td>\n",
       "      <td>0.331329</td>\n",
       "      <td>11.760232</td>\n",
       "      <td>0.476951</td>\n",
       "    </tr>\n",
       "    <tr>\n",
       "      <th>min</th>\n",
       "      <td>0.000000</td>\n",
       "      <td>0.000000</td>\n",
       "      <td>0.000000</td>\n",
       "      <td>0.000000</td>\n",
       "      <td>0.000000</td>\n",
       "      <td>0.000000</td>\n",
       "      <td>0.078000</td>\n",
       "      <td>21.000000</td>\n",
       "      <td>0.000000</td>\n",
       "    </tr>\n",
       "    <tr>\n",
       "      <th>25%</th>\n",
       "      <td>1.000000</td>\n",
       "      <td>99.000000</td>\n",
       "      <td>62.000000</td>\n",
       "      <td>0.000000</td>\n",
       "      <td>0.000000</td>\n",
       "      <td>27.300000</td>\n",
       "      <td>0.243750</td>\n",
       "      <td>24.000000</td>\n",
       "      <td>0.000000</td>\n",
       "    </tr>\n",
       "    <tr>\n",
       "      <th>50%</th>\n",
       "      <td>3.000000</td>\n",
       "      <td>117.000000</td>\n",
       "      <td>72.000000</td>\n",
       "      <td>23.000000</td>\n",
       "      <td>30.500000</td>\n",
       "      <td>32.000000</td>\n",
       "      <td>0.372500</td>\n",
       "      <td>29.000000</td>\n",
       "      <td>0.000000</td>\n",
       "    </tr>\n",
       "    <tr>\n",
       "      <th>75%</th>\n",
       "      <td>6.000000</td>\n",
       "      <td>140.250000</td>\n",
       "      <td>80.000000</td>\n",
       "      <td>32.000000</td>\n",
       "      <td>127.250000</td>\n",
       "      <td>36.600000</td>\n",
       "      <td>0.626250</td>\n",
       "      <td>41.000000</td>\n",
       "      <td>1.000000</td>\n",
       "    </tr>\n",
       "    <tr>\n",
       "      <th>max</th>\n",
       "      <td>17.000000</td>\n",
       "      <td>199.000000</td>\n",
       "      <td>122.000000</td>\n",
       "      <td>99.000000</td>\n",
       "      <td>846.000000</td>\n",
       "      <td>67.100000</td>\n",
       "      <td>2.420000</td>\n",
       "      <td>81.000000</td>\n",
       "      <td>1.000000</td>\n",
       "    </tr>\n",
       "  </tbody>\n",
       "</table>\n",
       "</div>"
      ],
      "text/plain": [
       "       Pregnancies     Glucose  BloodPressure  SkinThickness     Insulin  \\\n",
       "count   768.000000  768.000000     768.000000     768.000000  768.000000   \n",
       "mean      3.845052  120.894531      69.105469      20.536458   79.799479   \n",
       "std       3.369578   31.972618      19.355807      15.952218  115.244002   \n",
       "min       0.000000    0.000000       0.000000       0.000000    0.000000   \n",
       "25%       1.000000   99.000000      62.000000       0.000000    0.000000   \n",
       "50%       3.000000  117.000000      72.000000      23.000000   30.500000   \n",
       "75%       6.000000  140.250000      80.000000      32.000000  127.250000   \n",
       "max      17.000000  199.000000     122.000000      99.000000  846.000000   \n",
       "\n",
       "              BMI  DiabetesPedigreeFunction         Age     Outcome  \n",
       "count  768.000000                768.000000  768.000000  768.000000  \n",
       "mean    31.992578                  0.471876   33.240885    0.348958  \n",
       "std      7.884160                  0.331329   11.760232    0.476951  \n",
       "min      0.000000                  0.078000   21.000000    0.000000  \n",
       "25%     27.300000                  0.243750   24.000000    0.000000  \n",
       "50%     32.000000                  0.372500   29.000000    0.000000  \n",
       "75%     36.600000                  0.626250   41.000000    1.000000  \n",
       "max     67.100000                  2.420000   81.000000    1.000000  "
      ]
     },
     "execution_count": 5,
     "metadata": {},
     "output_type": "execute_result"
    }
   ],
   "source": [
    "df.describe()"
   ]
  },
  {
   "cell_type": "code",
   "execution_count": 6,
   "id": "cf0ddf7a",
   "metadata": {
    "execution": {
     "iopub.execute_input": "2024-05-01T16:33:41.793494Z",
     "iopub.status.busy": "2024-05-01T16:33:41.793101Z",
     "iopub.status.idle": "2024-05-01T16:33:41.811119Z",
     "shell.execute_reply": "2024-05-01T16:33:41.810000Z"
    },
    "papermill": {
     "duration": 0.028006,
     "end_time": "2024-05-01T16:33:41.813455",
     "exception": false,
     "start_time": "2024-05-01T16:33:41.785449",
     "status": "completed"
    },
    "tags": []
   },
   "outputs": [
    {
     "name": "stdout",
     "output_type": "stream",
     "text": [
      "<class 'pandas.core.frame.DataFrame'>\n",
      "RangeIndex: 768 entries, 0 to 767\n",
      "Data columns (total 9 columns):\n",
      " #   Column                    Non-Null Count  Dtype  \n",
      "---  ------                    --------------  -----  \n",
      " 0   Pregnancies               768 non-null    int64  \n",
      " 1   Glucose                   768 non-null    int64  \n",
      " 2   BloodPressure             768 non-null    int64  \n",
      " 3   SkinThickness             768 non-null    int64  \n",
      " 4   Insulin                   768 non-null    int64  \n",
      " 5   BMI                       768 non-null    float64\n",
      " 6   DiabetesPedigreeFunction  768 non-null    float64\n",
      " 7   Age                       768 non-null    int64  \n",
      " 8   Outcome                   768 non-null    int64  \n",
      "dtypes: float64(2), int64(7)\n",
      "memory usage: 54.1 KB\n"
     ]
    }
   ],
   "source": [
    "df.info()"
   ]
  },
  {
   "cell_type": "code",
   "execution_count": 7,
   "id": "49a5243a",
   "metadata": {
    "execution": {
     "iopub.execute_input": "2024-05-01T16:33:41.827664Z",
     "iopub.status.busy": "2024-05-01T16:33:41.827294Z",
     "iopub.status.idle": "2024-05-01T16:33:41.914499Z",
     "shell.execute_reply": "2024-05-01T16:33:41.913719Z"
    },
    "papermill": {
     "duration": 0.096891,
     "end_time": "2024-05-01T16:33:41.916697",
     "exception": false,
     "start_time": "2024-05-01T16:33:41.819806",
     "status": "completed"
    },
    "tags": []
   },
   "outputs": [
    {
     "data": {
      "text/html": [
       "<style type=\"text/css\">\n",
       "#T_78d59_row0_col0 {\n",
       "  background-color: #313695;\n",
       "  color: #f1f1f1;\n",
       "}\n",
       "#T_78d59_row1_col0 {\n",
       "  background-color: #fee99d;\n",
       "  color: #000000;\n",
       "}\n",
       "#T_78d59_row2_col0 {\n",
       "  background-color: #f88950;\n",
       "  color: #f1f1f1;\n",
       "}\n",
       "#T_78d59_row3_col0 {\n",
       "  background-color: #ef633f;\n",
       "  color: #f1f1f1;\n",
       "}\n",
       "#T_78d59_row4_col0 {\n",
       "  background-color: #ea5739;\n",
       "  color: #f1f1f1;\n",
       "}\n",
       "#T_78d59_row5_col0 {\n",
       "  background-color: #db382b;\n",
       "  color: #f1f1f1;\n",
       "}\n",
       "#T_78d59_row6_col0 {\n",
       "  background-color: #c62027;\n",
       "  color: #f1f1f1;\n",
       "}\n",
       "#T_78d59_row7_col0 {\n",
       "  background-color: #a90426;\n",
       "  color: #f1f1f1;\n",
       "}\n",
       "#T_78d59_row8_col0 {\n",
       "  background-color: #a50026;\n",
       "  color: #f1f1f1;\n",
       "}\n",
       "</style>\n",
       "<table id=\"T_78d59\">\n",
       "  <thead>\n",
       "    <tr>\n",
       "      <th class=\"blank level0\" >&nbsp;</th>\n",
       "      <th id=\"T_78d59_level0_col0\" class=\"col_heading level0 col0\" >Outcome</th>\n",
       "    </tr>\n",
       "  </thead>\n",
       "  <tbody>\n",
       "    <tr>\n",
       "      <th id=\"T_78d59_level0_row0\" class=\"row_heading level0 row0\" >Outcome</th>\n",
       "      <td id=\"T_78d59_row0_col0\" class=\"data row0 col0\" >1.000000</td>\n",
       "    </tr>\n",
       "    <tr>\n",
       "      <th id=\"T_78d59_level0_row1\" class=\"row_heading level0 row1\" >Glucose</th>\n",
       "      <td id=\"T_78d59_row1_col0\" class=\"data row1 col0\" >0.466581</td>\n",
       "    </tr>\n",
       "    <tr>\n",
       "      <th id=\"T_78d59_level0_row2\" class=\"row_heading level0 row2\" >BMI</th>\n",
       "      <td id=\"T_78d59_row2_col0\" class=\"data row2 col0\" >0.292695</td>\n",
       "    </tr>\n",
       "    <tr>\n",
       "      <th id=\"T_78d59_level0_row3\" class=\"row_heading level0 row3\" >Age</th>\n",
       "      <td id=\"T_78d59_row3_col0\" class=\"data row3 col0\" >0.238356</td>\n",
       "    </tr>\n",
       "    <tr>\n",
       "      <th id=\"T_78d59_level0_row4\" class=\"row_heading level0 row4\" >Pregnancies</th>\n",
       "      <td id=\"T_78d59_row4_col0\" class=\"data row4 col0\" >0.221898</td>\n",
       "    </tr>\n",
       "    <tr>\n",
       "      <th id=\"T_78d59_level0_row5\" class=\"row_heading level0 row5\" >DiabetesPedigreeFunction</th>\n",
       "      <td id=\"T_78d59_row5_col0\" class=\"data row5 col0\" >0.173844</td>\n",
       "    </tr>\n",
       "    <tr>\n",
       "      <th id=\"T_78d59_level0_row6\" class=\"row_heading level0 row6\" >Insulin</th>\n",
       "      <td id=\"T_78d59_row6_col0\" class=\"data row6 col0\" >0.130548</td>\n",
       "    </tr>\n",
       "    <tr>\n",
       "      <th id=\"T_78d59_level0_row7\" class=\"row_heading level0 row7\" >SkinThickness</th>\n",
       "      <td id=\"T_78d59_row7_col0\" class=\"data row7 col0\" >0.074752</td>\n",
       "    </tr>\n",
       "    <tr>\n",
       "      <th id=\"T_78d59_level0_row8\" class=\"row_heading level0 row8\" >BloodPressure</th>\n",
       "      <td id=\"T_78d59_row8_col0\" class=\"data row8 col0\" >0.065068</td>\n",
       "    </tr>\n",
       "  </tbody>\n",
       "</table>\n"
      ],
      "text/plain": [
       "<pandas.io.formats.style.Styler at 0x1e6be44ee90>"
      ]
     },
     "execution_count": 7,
     "metadata": {},
     "output_type": "execute_result"
    }
   ],
   "source": [
    "corr = df[['Pregnancies', 'Glucose', 'BloodPressure', 'SkinThickness','Insulin','BMI','DiabetesPedigreeFunction', 'Age','Outcome']].corr()['Outcome'].sort_values(ascending = False)\n",
    "corr = corr.to_frame()\n",
    "corr.style.background_gradient(cmap=\"RdYlBu\")"
   ]
  },
  {
   "cell_type": "code",
   "execution_count": 8,
   "id": "7fdfad52",
   "metadata": {
    "execution": {
     "iopub.execute_input": "2024-05-01T16:33:41.931818Z",
     "iopub.status.busy": "2024-05-01T16:33:41.931327Z",
     "iopub.status.idle": "2024-05-01T16:33:42.548532Z",
     "shell.execute_reply": "2024-05-01T16:33:42.546896Z"
    },
    "papermill": {
     "duration": 0.627573,
     "end_time": "2024-05-01T16:33:42.551127",
     "exception": false,
     "start_time": "2024-05-01T16:33:41.923554",
     "status": "completed"
    },
    "tags": []
   },
   "outputs": [
    {
     "data": {
      "image/png": "[encoded data removed]",
      "text/plain": [
       "<Figure size 1500x1000 with 2 Axes>"
      ]
     },
     "metadata": {},
     "output_type": "display_data"
    }
   ],
   "source": [
    "corr_matrix = df.corr()\n",
    "plt.figure(figsize = (15,10))\n",
    "sns.heatmap(corr_matrix, annot = True, cmap = 'RdYlBu')\n",
    "plt.title('Diabetis_Correlation Matrix')\n",
    "plt.show()"
   ]
  },
  {
   "cell_type": "code",
   "execution_count": 9,
   "id": "88b2402d",
   "metadata": {
    "execution": {
     "iopub.execute_input": "2024-05-01T16:33:42.570430Z",
     "iopub.status.busy": "2024-05-01T16:33:42.570025Z",
     "iopub.status.idle": "2024-05-01T16:33:42.576035Z",
     "shell.execute_reply": "2024-05-01T16:33:42.575003Z"
    },
    "papermill": {
     "duration": 0.018561,
     "end_time": "2024-05-01T16:33:42.578247",
     "exception": false,
     "start_time": "2024-05-01T16:33:42.559686",
     "status": "completed"
    },
    "tags": []
   },
   "outputs": [],
   "source": [
    "X=df.drop('Outcome',axis=1)\n",
    "y=df['Outcome']"
   ]
  },
  {
   "cell_type": "code",
   "execution_count": 10,
   "id": "24bc14f9",
   "metadata": {
    "execution": {
     "iopub.execute_input": "2024-05-01T16:33:42.598261Z",
     "iopub.status.busy": "2024-05-01T16:33:42.597261Z",
     "iopub.status.idle": "2024-05-01T16:33:43.019703Z",
     "shell.execute_reply": "2024-05-01T16:33:43.018604Z"
    },
    "papermill": {
     "duration": 0.43536,
     "end_time": "2024-05-01T16:33:43.023040",
     "exception": false,
     "start_time": "2024-05-01T16:33:42.587680",
     "status": "completed"
    },
    "tags": []
   },
   "outputs": [
    {
     "data": {
      "image/png": "[encoded data removed]",
      "text/plain": [
       "<Figure size 640x480 with 1 Axes>"
      ]
     },
     "metadata": {},
     "output_type": "display_data"
    }
   ],
   "source": [
    "feat_selection=ExtraTreesClassifier()\n",
    "feat_selection.fit(X,y)\n",
    "feat_importances=pd.Series(feat_selection.feature_importances_,index=X.columns)\n",
    "feat_importances.nlargest(len(df.columns)).plot(kind='barh')\n",
    "plt.xlabel('Feature Importance')\n",
    "plt.ylabel('Features')\n",
    "plt.show()"
   ]
  },
  {
   "cell_type": "code",
   "execution_count": 11,
   "id": "d22fc485",
   "metadata": {
    "execution": {
     "iopub.execute_input": "2024-05-01T16:33:43.043954Z",
     "iopub.status.busy": "2024-05-01T16:33:43.043377Z",
     "iopub.status.idle": "2024-05-01T16:33:43.051476Z",
     "shell.execute_reply": "2024-05-01T16:33:43.050308Z"
    },
    "papermill": {
     "duration": 0.020461,
     "end_time": "2024-05-01T16:33:43.053837",
     "exception": false,
     "start_time": "2024-05-01T16:33:43.033376",
     "status": "completed"
    },
    "tags": []
   },
   "outputs": [
    {
     "data": {
      "text/plain": [
       "Glucose                     0.224585\n",
       "Age                         0.146072\n",
       "BMI                         0.143624\n",
       "DiabetesPedigreeFunction    0.122050\n",
       "Pregnancies                 0.109122\n",
       "BloodPressure               0.099586\n",
       "SkinThickness               0.079773\n",
       "Insulin                     0.075187\n",
       "dtype: float64"
      ]
     },
     "execution_count": 11,
     "metadata": {},
     "output_type": "execute_result"
    }
   ],
   "source": [
    "feat_importances.sort_values(ascending = False)"
   ]
  },
  {
   "cell_type": "code",
   "execution_count": 12,
   "id": "a04d9217",
   "metadata": {
    "execution": {
     "iopub.execute_input": "2024-05-01T16:33:43.073701Z",
     "iopub.status.busy": "2024-05-01T16:33:43.073310Z",
     "iopub.status.idle": "2024-05-01T16:33:43.082564Z",
     "shell.execute_reply": "2024-05-01T16:33:43.081315Z"
    },
    "papermill": {
     "duration": 0.021777,
     "end_time": "2024-05-01T16:33:43.084702",
     "exception": false,
     "start_time": "2024-05-01T16:33:43.062925",
     "status": "completed"
    },
    "tags": []
   },
   "outputs": [],
   "source": [
    "X = df[feat_importances[:6].index]\n",
    "y = df['Outcome']\n",
    "X_train, X_test, y_train, y_test = train_test_split(X, y, test_size = 0.2,random_state = 23)"
   ]
  },
  {
   "cell_type": "code",
   "execution_count": 25,
   "id": "598bb7ec",
   "metadata": {},
   "outputs": [
    {
     "data": {
      "text/html": [
       "<div>\n",
       "<style scoped>\n",
       "    .dataframe tbody tr th:only-of-type {\n",
       "        vertical-align: middle;\n",
       "    }\n",
       "\n",
       "    .dataframe tbody tr th {\n",
       "        vertical-align: top;\n",
       "    }\n",
       "\n",
       "    .dataframe thead th {\n",
       "        text-align: right;\n",
       "    }\n",
       "</style>\n",
       "<table border=\"1\" class=\"dataframe\">\n",
       "  <thead>\n",
       "    <tr style=\"text-align: right;\">\n",
       "      <th></th>\n",
       "      <th>Pregnancies</th>\n",
       "      <th>Glucose</th>\n",
       "      <th>BloodPressure</th>\n",
       "      <th>SkinThickness</th>\n",
       "      <th>Insulin</th>\n",
       "      <th>BMI</th>\n",
       "    </tr>\n",
       "  </thead>\n",
       "  <tbody>\n",
       "    <tr>\n",
       "      <th>714</th>\n",
       "      <td>3</td>\n",
       "      <td>102</td>\n",
       "      <td>74</td>\n",
       "      <td>0</td>\n",
       "      <td>0</td>\n",
       "      <td>29.5</td>\n",
       "    </tr>\n",
       "    <tr>\n",
       "      <th>302</th>\n",
       "      <td>5</td>\n",
       "      <td>77</td>\n",
       "      <td>82</td>\n",
       "      <td>41</td>\n",
       "      <td>42</td>\n",
       "      <td>35.8</td>\n",
       "    </tr>\n",
       "    <tr>\n",
       "      <th>133</th>\n",
       "      <td>8</td>\n",
       "      <td>84</td>\n",
       "      <td>74</td>\n",
       "      <td>31</td>\n",
       "      <td>0</td>\n",
       "      <td>38.3</td>\n",
       "    </tr>\n",
       "    <tr>\n",
       "      <th>728</th>\n",
       "      <td>2</td>\n",
       "      <td>175</td>\n",
       "      <td>88</td>\n",
       "      <td>0</td>\n",
       "      <td>0</td>\n",
       "      <td>22.9</td>\n",
       "    </tr>\n",
       "    <tr>\n",
       "      <th>558</th>\n",
       "      <td>11</td>\n",
       "      <td>103</td>\n",
       "      <td>68</td>\n",
       "      <td>40</td>\n",
       "      <td>0</td>\n",
       "      <td>46.2</td>\n",
       "    </tr>\n",
       "  </tbody>\n",
       "</table>\n",
       "</div>"
      ],
      "text/plain": [
       "     Pregnancies  Glucose  BloodPressure  SkinThickness  Insulin   BMI\n",
       "714            3      102             74              0        0  29.5\n",
       "302            5       77             82             41       42  35.8\n",
       "133            8       84             74             31        0  38.3\n",
       "728            2      175             88              0        0  22.9\n",
       "558           11      103             68             40        0  46.2"
      ]
     },
     "execution_count": 25,
     "metadata": {},
     "output_type": "execute_result"
    }
   ],
   "source": [
    "X_train.head()"
   ]
  },
  {
   "cell_type": "code",
   "execution_count": 24,
   "id": "740b4aa1",
   "metadata": {},
   "outputs": [
    {
     "data": {
      "text/plain": [
       "Pregnancies      0.109122\n",
       "Glucose          0.224585\n",
       "BloodPressure    0.099586\n",
       "SkinThickness    0.079773\n",
       "Insulin          0.075187\n",
       "BMI              0.143624\n",
       "dtype: float64"
      ]
     },
     "execution_count": 24,
     "metadata": {},
     "output_type": "execute_result"
    }
   ],
   "source": [
    "feat_importances[:6]"
   ]
  },
  {
   "cell_type": "code",
   "execution_count": 13,
   "id": "d9dd1b33",
   "metadata": {
    "execution": {
     "iopub.execute_input": "2024-05-01T16:33:43.104870Z",
     "iopub.status.busy": "2024-05-01T16:33:43.104500Z",
     "iopub.status.idle": "2024-05-01T16:33:44.729541Z",
     "shell.execute_reply": "2024-05-01T16:33:44.728423Z"
    },
    "papermill": {
     "duration": 1.637895,
     "end_time": "2024-05-01T16:33:44.731915",
     "exception": false,
     "start_time": "2024-05-01T16:33:43.094020",
     "status": "completed"
    },
    "tags": []
   },
   "outputs": [],
   "source": [
    "neighbors = np.arange(1, 35)\n",
    "train_accuracies = {}\n",
    "test_accuracies = {}\n",
    "for neighbor in neighbors:\n",
    "    knn = KNeighborsClassifier(n_neighbors=neighbor)\n",
    "    knn.fit(X_train, y_train)\n",
    "    train_accuracies[neighbor] = knn.score(X_train, y_train)\n",
    "    test_accuracies[neighbor] = knn.score(X_test, y_test)"
   ]
  },
  {
   "cell_type": "code",
   "execution_count": 14,
   "id": "6e5f62f3",
   "metadata": {
    "execution": {
     "iopub.execute_input": "2024-05-01T16:33:44.752728Z",
     "iopub.status.busy": "2024-05-01T16:33:44.752358Z",
     "iopub.status.idle": "2024-05-01T16:33:44.757834Z",
     "shell.execute_reply": "2024-05-01T16:33:44.756758Z"
    },
    "papermill": {
     "duration": 0.018578,
     "end_time": "2024-05-01T16:33:44.760141",
     "exception": false,
     "start_time": "2024-05-01T16:33:44.741563",
     "status": "completed"
    },
    "tags": []
   },
   "outputs": [
    {
     "name": "stdout",
     "output_type": "stream",
     "text": [
      "Train Accuracies: \n",
      "{1: 1.0, 2: 0.8159609120521173, 3: 0.8208469055374593, 4: 0.7980456026058632, 5: 0.7899022801302932, 6: 0.7752442996742671, 7: 0.7687296416938111, 8: 0.762214983713355, 9: 0.7638436482084691, 10: 0.7687296416938111, 11: 0.7866449511400652, 12: 0.7801302931596091, 13: 0.7899022801302932, 14: 0.7736156351791531, 15: 0.7654723127035831, 16: 0.7671009771986971, 17: 0.7768729641693811, 18: 0.7654723127035831, 19: 0.7654723127035831, 20: 0.760586319218241, 21: 0.762214983713355, 22: 0.747557003257329, 23: 0.749185667752443, 24: 0.749185667752443, 25: 0.741042345276873, 26: 0.745928338762215, 27: 0.752442996742671, 28: 0.747557003257329, 29: 0.754071661237785, 30: 0.749185667752443, 31: 0.755700325732899, 32: 0.745928338762215, 33: 0.750814332247557, 34: 0.737785016286645}\n",
      "\n",
      "Test Accuracies:\n",
      "{1: 0.6688311688311688, 2: 0.7272727272727273, 3: 0.6948051948051948, 4: 0.7272727272727273, 5: 0.7337662337662337, 6: 0.7467532467532467, 7: 0.7337662337662337, 8: 0.7207792207792207, 9: 0.7077922077922078, 10: 0.7142857142857143, 11: 0.7272727272727273, 12: 0.7272727272727273, 13: 0.7467532467532467, 14: 0.7402597402597403, 15: 0.7402597402597403, 16: 0.7532467532467533, 17: 0.7467532467532467, 18: 0.7402597402597403, 19: 0.7402597402597403, 20: 0.7402597402597403, 21: 0.7337662337662337, 22: 0.7467532467532467, 23: 0.7402597402597403, 24: 0.7597402597402597, 25: 0.7597402597402597, 26: 0.7597402597402597, 27: 0.7467532467532467, 28: 0.7402597402597403, 29: 0.7597402597402597, 30: 0.7597402597402597, 31: 0.7532467532467533, 32: 0.7467532467532467, 33: 0.7532467532467533, 34: 0.7532467532467533}\n"
     ]
    }
   ],
   "source": [
    "print(f'Train Accuracies: \\n{train_accuracies}\\n\\nTest Accuracies:\\n{test_accuracies}')"
   ]
  },
  {
   "cell_type": "code",
   "execution_count": 15,
   "id": "91fee84e",
   "metadata": {
    "execution": {
     "iopub.execute_input": "2024-05-01T16:33:44.779692Z",
     "iopub.status.busy": "2024-05-01T16:33:44.778880Z",
     "iopub.status.idle": "2024-05-01T16:33:45.062582Z",
     "shell.execute_reply": "2024-05-01T16:33:45.061434Z"
    },
    "papermill": {
     "duration": 0.296527,
     "end_time": "2024-05-01T16:33:45.065373",
     "exception": false,
     "start_time": "2024-05-01T16:33:44.768846",
     "status": "completed"
    },
    "tags": []
   },
   "outputs": [
    {
     "data": {
      "image/png": "[encoded data removed]",
      "text/plain": [
       "<Figure size 640x480 with 1 Axes>"
      ]
     },
     "metadata": {},
     "output_type": "display_data"
    }
   ],
   "source": [
    "plt.title(\"KNN: Varying Number of Neighbors\")\n",
    "plt.plot(neighbors, train_accuracies.values(), label=\"Training Accuracy\")\n",
    "plt.plot(neighbors, test_accuracies.values(), label=\"Testing Accuracy\")\n",
    "plt.legend()\n",
    "plt.xlabel(\"Number of Neighbors\")\n",
    "plt.ylabel(\"Accuracy\")\n",
    "plt.show()"
   ]
  },
  {
   "cell_type": "code",
   "execution_count": 16,
   "id": "7ca4aefd",
   "metadata": {
    "execution": {
     "iopub.execute_input": "2024-05-01T16:33:45.087293Z",
     "iopub.status.busy": "2024-05-01T16:33:45.086868Z",
     "iopub.status.idle": "2024-05-01T16:33:45.155966Z",
     "shell.execute_reply": "2024-05-01T16:33:45.154540Z"
    },
    "papermill": {
     "duration": 0.08258,
     "end_time": "2024-05-01T16:33:45.158008",
     "exception": false,
     "start_time": "2024-05-01T16:33:45.075428",
     "status": "completed"
    },
    "tags": []
   },
   "outputs": [
    {
     "name": "stdout",
     "output_type": "stream",
     "text": [
      "Train Accuracy: 0.750814332247557\n",
      "Test Accuracy: 0.7532467532467533\n"
     ]
    }
   ],
   "source": [
    "model = KNeighborsClassifier(n_neighbors = 33)\n",
    "model.fit(X_train, y_train)\n",
    "y_pred = model.predict(X_test)\n",
    "train_accuracy = model.score(X_train, y_train)\n",
    "test_accuracy = model.score(X_test, y_test)\n",
    "print(f'Train Accuracy: {train_accuracy}\\nTest Accuracy: {test_accuracy}')"
   ]
  },
  {
   "cell_type": "code",
   "execution_count": 17,
   "id": "a3a77908",
   "metadata": {
    "execution": {
     "iopub.execute_input": "2024-05-01T16:33:45.178840Z",
     "iopub.status.busy": "2024-05-01T16:33:45.178454Z",
     "iopub.status.idle": "2024-05-01T16:33:45.184787Z",
     "shell.execute_reply": "2024-05-01T16:33:45.183806Z"
    },
    "papermill": {
     "duration": 0.019153,
     "end_time": "2024-05-01T16:33:45.186765",
     "exception": false,
     "start_time": "2024-05-01T16:33:45.167612",
     "status": "completed"
    },
    "tags": []
   },
   "outputs": [],
   "source": [
    "def hyperparameter_tunning(estimator, X_train, y_train, param_grid, score ='accuracy', n = 5):\n",
    "    # Perform grid search\n",
    "    grid_search = GridSearchCV(estimator = estimator,param_grid = param_grid,scoring = score,cv = n)\n",
    "    # Fit the data\n",
    "    grid_search.fit(X_train,y_train)\n",
    "    best_params = grid_search.best_params_\n",
    "    best_score = grid_search.best_score_\n",
    "    # Print the best parameters and score\n",
    "    print(f'Best parameters: {best_params} \\n')\n",
    "    print(f'Best score: {best_score}')\n",
    "    # best estimator\n",
    "    best_estimator = grid_search.best_estimator_\n",
    "    return best_estimator"
   ]
  },
  {
   "cell_type": "code",
   "execution_count": 18,
   "id": "6ec2820d",
   "metadata": {
    "execution": {
     "iopub.execute_input": "2024-05-01T16:33:45.208048Z",
     "iopub.status.busy": "2024-05-01T16:33:45.207673Z",
     "iopub.status.idle": "2024-05-01T16:33:46.980270Z",
     "shell.execute_reply": "2024-05-01T16:33:46.978924Z"
    },
    "papermill": {
     "duration": 1.785785,
     "end_time": "2024-05-01T16:33:46.982586",
     "exception": false,
     "start_time": "2024-05-01T16:33:45.196801",
     "status": "completed"
    },
    "tags": []
   },
   "outputs": [
    {
     "name": "stdout",
     "output_type": "stream",
     "text": [
      "Best parameters: {'metric': 'manhattan', 'n_neighbors': 31, 'weights': 'distance'} \n",
      "\n",
      "Best score: 0.7328401972544316\n"
     ]
    }
   ],
   "source": [
    "param_grid = {\n",
    "'n_neighbors': [3, 5, 7, 9, 11, 13, 15, 17, 19, 21, 23, 25,27,29,31,33],\n",
    "'weights': ['uniform', 'distance'],\n",
    "'metric': ['euclidian', 'manhattan']\n",
    "}\n",
    "best_estimator = hyperparameter_tunning(model, X_train, y_train, param_grid,score = 'accuracy', n = 5)"
   ]
  },
  {
   "cell_type": "code",
   "execution_count": 19,
   "id": "95ea6b6c",
   "metadata": {
    "execution": {
     "iopub.execute_input": "2024-05-01T16:33:47.003494Z",
     "iopub.status.busy": "2024-05-01T16:33:47.003085Z",
     "iopub.status.idle": "2024-05-01T16:33:47.051996Z",
     "shell.execute_reply": "2024-05-01T16:33:47.050751Z"
    },
    "papermill": {
     "duration": 0.06194,
     "end_time": "2024-05-01T16:33:47.054199",
     "exception": false,
     "start_time": "2024-05-01T16:33:46.992259",
     "status": "completed"
    },
    "tags": []
   },
   "outputs": [
    {
     "data": {
      "text/plain": [
       "0.7654723127035831"
      ]
     },
     "execution_count": 19,
     "metadata": {},
     "output_type": "execute_result"
    }
   ],
   "source": [
    "knn = KNeighborsClassifier(metric = 'manhattan', n_neighbors = 21, weights='uniform')\n",
    "knn.fit(X_train, y_train)\n",
    "knn.score(X_train, y_train)"
   ]
  },
  {
   "cell_type": "code",
   "execution_count": 20,
   "id": "5ddd75a5",
   "metadata": {
    "execution": {
     "iopub.execute_input": "2024-05-01T16:33:47.076205Z",
     "iopub.status.busy": "2024-05-01T16:33:47.075431Z",
     "iopub.status.idle": "2024-05-01T16:33:47.081057Z",
     "shell.execute_reply": "2024-05-01T16:33:47.080011Z"
    },
    "papermill": {
     "duration": 0.019086,
     "end_time": "2024-05-01T16:33:47.083368",
     "exception": false,
     "start_time": "2024-05-01T16:33:47.064282",
     "status": "completed"
    },
    "tags": []
   },
   "outputs": [],
   "source": [
    "param_grid = {\n",
    "'max_depth': [3, 5, 7, None], # Maximum depth of the tree\n",
    "'min_samples_split': [2, 5, 10], # Minimum number of samples required to␣split an internal node\n",
    " 'min_samples_leaf': [1, 2, 4] # Minimum number of samples required to be at a leaf node\n",
    " }\n",
    "clf = DecisionTreeClassifier(random_state=42)"
   ]
  },
  {
   "cell_type": "code",
   "execution_count": 21,
   "id": "cc20c8f0",
   "metadata": {
    "execution": {
     "iopub.execute_input": "2024-05-01T16:33:47.104957Z",
     "iopub.status.busy": "2024-05-01T16:33:47.104054Z",
     "iopub.status.idle": "2024-05-01T16:33:48.170550Z",
     "shell.execute_reply": "2024-05-01T16:33:48.169304Z"
    },
    "papermill": {
     "duration": 1.07964,
     "end_time": "2024-05-01T16:33:48.172773",
     "exception": false,
     "start_time": "2024-05-01T16:33:47.093133",
     "status": "completed"
    },
    "tags": []
   },
   "outputs": [
    {
     "name": "stdout",
     "output_type": "stream",
     "text": [
      "Best Hyperparameters: {'max_depth': 3, 'min_samples_leaf': 4, 'min_samples_split': 2}\n",
      "Accuracy: 0.7532467532467533\n"
     ]
    }
   ],
   "source": [
    "grid_search = GridSearchCV(clf, param_grid, cv=5, scoring='accuracy')\n",
    "grid_search.fit(X_train, y_train)\n",
    "best_params = grid_search.best_params_\n",
    "print(\"Best Hyperparameters:\", best_params)\n",
    "best_clf = DecisionTreeClassifier(**best_params, random_state=42)\n",
    "best_clf.fit(X_train, y_train)\n",
    "y_pred = best_clf.predict(X_test)\n",
    "accuracy = accuracy_score(y_test, y_pred)\n",
    "print(\"Accuracy:\", accuracy)"
   ]
  },
  {
   "cell_type": "code",
   "execution_count": 22,
   "id": "ae7c96c3",
   "metadata": {
    "execution": {
     "iopub.execute_input": "2024-05-01T16:33:48.194498Z",
     "iopub.status.busy": "2024-05-01T16:33:48.194092Z",
     "iopub.status.idle": "2024-05-01T16:33:48.206334Z",
     "shell.execute_reply": "2024-05-01T16:33:48.205363Z"
    },
    "papermill": {
     "duration": 0.025357,
     "end_time": "2024-05-01T16:33:48.208319",
     "exception": false,
     "start_time": "2024-05-01T16:33:48.182962",
     "status": "completed"
    },
    "tags": []
   },
   "outputs": [
    {
     "data": {
      "text/plain": [
       "0.7532467532467533"
      ]
     },
     "execution_count": 22,
     "metadata": {},
     "output_type": "execute_result"
    }
   ],
   "source": [
    "dt = DecisionTreeClassifier(max_depth = 3, min_samples_leaf =1,min_samples_split= 2)\n",
    "dt.fit(X_train, y_train)\n",
    "dt.score(X_test, y_test)"
   ]
  },
  {
   "cell_type": "code",
   "execution_count": 23,
   "id": "dc5aa50b",
   "metadata": {},
   "outputs": [],
   "source": [
    "import pickle\n",
    "with open('diabetesmodel.pickle','wb') as fp:\n",
    "    pickle.dump(dt,fp)\n",
    "    "
   ]
  },
  {
   "cell_type": "code",
   "execution_count": null,
   "id": "86acd6d0",
   "metadata": {},
   "outputs": [],
   "source": []
  }
 ],
 "metadata": {
  "kaggle": {
   "accelerator": "none",
   "dataSources": [
    {
     "datasetId": 2527538,
     "sourceId": 4289678,
     "sourceType": "datasetVersion"
    },
    {
     "datasetId": 818300,
     "sourceId": 1400440,
     "sourceType": "datasetVersion"
    }
   ],
   "dockerImageVersionId": 30698,
   "isGpuEnabled": false,
   "isInternetEnabled": true,
   "language": "python",
   "sourceType": "notebook"
  },
  "kernelspec": {
   "display_name": "Python 3",
   "language": "python",
   "name": "python3"
  },
  "language_info": {
   "codemirror_mode": {
    "name": "ipython",
    "version": 3
   },
   "file_extension": ".py",
   "mimetype": "text/x-python",
   "name": "python",
   "nbconvert_exporter": "python",
   "pygments_lexer": "ipython3",
   "version": "3.11.5"
  },
  "papermill": {
   "default_parameters": {},
   "duration": 12.478314,
   "end_time": "2024-05-01T16:33:48.838150",
   "environment_variables": {},
   "exception": null,
   "input_path": "__notebook__.ipynb",
   "output_path": "__notebook__.ipynb",
   "parameters": {},
   "start_time": "2024-05-01T16:33:36.359836",
   "version": "2.5.0"
  }
 },
 "nbformat": 4,
 "nbformat_minor": 5
}
